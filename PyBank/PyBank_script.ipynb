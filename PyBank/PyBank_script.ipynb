{
 "cells": [
  {
   "cell_type": "code",
   "execution_count": 7,
   "id": "8c27acf4-95e3-4ec2-9b97-f7bf6497e278",
   "metadata": {},
   "outputs": [
    {
     "name": "stderr",
     "output_type": "stream",
     "text": [
      "<>:63: SyntaxWarning: 'str' object is not callable; perhaps you missed a comma?\n",
      "<>:64: SyntaxWarning: 'str' object is not callable; perhaps you missed a comma?\n",
      "<>:63: SyntaxWarning: 'str' object is not callable; perhaps you missed a comma?\n",
      "<>:64: SyntaxWarning: 'str' object is not callable; perhaps you missed a comma?\n",
      "C:\\Users\\chris\\AppData\\Local\\Temp/ipykernel_2796/51093602.py:63: SyntaxWarning: 'str' object is not callable; perhaps you missed a comma?\n",
      "  file.write(\"Greatest Increase in Revenue: \" \"${:.2f}\" (greatest_increase[0], greatest_increase[1]))\n",
      "C:\\Users\\chris\\AppData\\Local\\Temp/ipykernel_2796/51093602.py:64: SyntaxWarning: 'str' object is not callable; perhaps you missed a comma?\n",
      "  file.write(\"Greatest Decrease in Revenue: \" \"${:.2f}\" (greatest_decrease[0], greatest_decrease[1]))\n"
     ]
    },
    {
     "ename": "TypeError",
     "evalue": "'str' object is not callable",
     "output_type": "error",
     "traceback": [
      "\u001b[1;31m---------------------------------------------------------------------------\u001b[0m",
      "\u001b[1;31mTypeError\u001b[0m                                 Traceback (most recent call last)",
      "\u001b[1;32m~\\AppData\\Local\\Temp/ipykernel_2796/51093602.py\u001b[0m in \u001b[0;36m<module>\u001b[1;34m\u001b[0m\n\u001b[0;32m     61\u001b[0m     \u001b[0mfile\u001b[0m\u001b[1;33m.\u001b[0m\u001b[0mwrite\u001b[0m\u001b[1;33m(\u001b[0m\u001b[1;34m\"Total Revenue:\"\u001b[0m \u001b[1;34m\"${:.2f}\"\u001b[0m\u001b[1;33m.\u001b[0m\u001b[0mformat\u001b[0m\u001b[1;33m(\u001b[0m\u001b[0mtotal_pnl\u001b[0m\u001b[1;33m)\u001b[0m\u001b[1;33m)\u001b[0m\u001b[1;33m\u001b[0m\u001b[1;33m\u001b[0m\u001b[0m\n\u001b[0;32m     62\u001b[0m     \u001b[0mfile\u001b[0m\u001b[1;33m.\u001b[0m\u001b[0mwrite\u001b[0m\u001b[1;33m(\u001b[0m\u001b[1;34m\"Average Revenue Change:\"\u001b[0m \u001b[1;34m\"${:.2f}\"\u001b[0m\u001b[1;33m.\u001b[0m\u001b[0mformat\u001b[0m\u001b[1;33m(\u001b[0m\u001b[0mrev_change\u001b[0m\u001b[1;33m)\u001b[0m\u001b[1;33m)\u001b[0m\u001b[1;33m\u001b[0m\u001b[1;33m\u001b[0m\u001b[0m\n\u001b[1;32m---> 63\u001b[1;33m     \u001b[0mfile\u001b[0m\u001b[1;33m.\u001b[0m\u001b[0mwrite\u001b[0m\u001b[1;33m(\u001b[0m\u001b[1;34m\"Greatest Increase in Revenue: \"\u001b[0m \u001b[1;34m\"${:.2f}\"\u001b[0m \u001b[1;33m(\u001b[0m\u001b[0mgreatest_increase\u001b[0m\u001b[1;33m[\u001b[0m\u001b[1;36m0\u001b[0m\u001b[1;33m]\u001b[0m\u001b[1;33m,\u001b[0m \u001b[0mgreatest_increase\u001b[0m\u001b[1;33m[\u001b[0m\u001b[1;36m1\u001b[0m\u001b[1;33m]\u001b[0m\u001b[1;33m)\u001b[0m\u001b[1;33m)\u001b[0m\u001b[1;33m\u001b[0m\u001b[1;33m\u001b[0m\u001b[0m\n\u001b[0m\u001b[0;32m     64\u001b[0m     \u001b[0mfile\u001b[0m\u001b[1;33m.\u001b[0m\u001b[0mwrite\u001b[0m\u001b[1;33m(\u001b[0m\u001b[1;34m\"Greatest Decrease in Revenue: \"\u001b[0m \u001b[1;34m\"${:.2f}\"\u001b[0m \u001b[1;33m(\u001b[0m\u001b[0mgreatest_decrease\u001b[0m\u001b[1;33m[\u001b[0m\u001b[1;36m0\u001b[0m\u001b[1;33m]\u001b[0m\u001b[1;33m,\u001b[0m \u001b[0mgreatest_decrease\u001b[0m\u001b[1;33m[\u001b[0m\u001b[1;36m1\u001b[0m\u001b[1;33m]\u001b[0m\u001b[1;33m)\u001b[0m\u001b[1;33m)\u001b[0m\u001b[1;33m\u001b[0m\u001b[1;33m\u001b[0m\u001b[0m\n\u001b[0;32m     65\u001b[0m \u001b[1;33m\u001b[0m\u001b[0m\n",
      "\u001b[1;31mTypeError\u001b[0m: 'str' object is not callable"
     ]
    }
   ],
   "source": [
    "#import budget dataset\n",
    "import csv\n",
    "from pathlib import Path\n",
    "\n",
    "#create path to budget data\n",
    "budget_data = Path('budget_data.csv')\n",
    "\n",
    "#create text file output\n",
    "final = \"Financial_Analysis.txt\"\n",
    "\n",
    "#define variables\n",
    "total_months = 0\n",
    "total_pnl = 0\n",
    "change_pnl = 0\n",
    "last_rev = 0\n",
    "rev_change = 0\n",
    "average_change = 0\n",
    "month = []\n",
    "greatest_increase = [\"\",0]\n",
    "greatest_decrease = [\"\",100]\n",
    "rev_list = [0]\n",
    "\n",
    "\n",
    "#open csv file to read with 'r'\n",
    "with open(budget_data, 'r') as data:\n",
    "    read = csv.reader(data)\n",
    "    col = next(read)\n",
    "    \n",
    "    #find total count of months using a loop\n",
    "    for i in read:\n",
    "        \n",
    "        #total months\n",
    "        total_months= total_months + 1\n",
    "        \n",
    "        #total profit/losses\n",
    "        total_pnl= int(i[1]) + total_pnl\n",
    "        \n",
    "        #change in revenue from month to month\n",
    "        #define average of change\n",
    "        rev_change = int(i[1]) - last_rev\n",
    "        last_rev = int(i[1])\n",
    "        rev_list = rev_list + [rev_change]\n",
    "        month = [month] + [i[0]]\n",
    "        \n",
    "        #define the greatest increase in revenue from period\n",
    "        if rev_change>greatest_increase[1]:\n",
    "            greatest_increase[1] = rev_change\n",
    "            greatest_increase[0] = i[0]\n",
    "         \n",
    "        #define the greatest decrease in revenue from period\n",
    "        if rev_change<greatest_decrease[1]:\n",
    "            greatest_decrease[1] = rev_change\n",
    "            greatest_decrease[0] = i[0]\n",
    "    average_change = sum(rev_list)/len(rev_list)\n",
    "        \n",
    "#create text file of analysis\n",
    "with open(final, 'w') as file:\n",
    "    file.write(\"Financial Analysis\\n\")\n",
    "    file.write(\"---------------------\\n\")\n",
    "    file.write(\"Total Months:\" \"${:.2f}\".format(total_months))\n",
    "    file.write(\"Total Revenue:\" \"${:.2f}\".format(total_pnl))\n",
    "    file.write(\"Average Revenue Change:\" \"${:.2f}\".format(rev_change))\n",
    "    file.write(\"Greatest Increase in Revenue: \" \"${:.2f}\" (greatest_increase[0], greatest_increase[1]))\n",
    "    file.write(\"Greatest Decrease in Revenue: \" \"${:.2f}\" (greatest_decrease[0], greatest_decrease[1]))        \n",
    "        \n",
    "        \n",
    "        \n",
    "        \n",
    "        \n"
   ]
  },
  {
   "cell_type": "code",
   "execution_count": 22,
   "id": "0e7cbbd6-e275-4163-b508-500f84d0fa27",
   "metadata": {},
   "outputs": [
    {
     "data": {
      "text/plain": [
       "86"
      ]
     },
     "execution_count": 22,
     "metadata": {},
     "output_type": "execute_result"
    }
   ],
   "source": [
    "total_month"
   ]
  },
  {
   "cell_type": "code",
   "execution_count": 24,
   "id": "3899b11a-9037-4752-bbc0-619159c68e0a",
   "metadata": {},
   "outputs": [
    {
     "data": {
      "text/plain": [
       "38382578"
      ]
     },
     "execution_count": 24,
     "metadata": {},
     "output_type": "execute_result"
    }
   ],
   "source": [
    "total_sum"
   ]
  },
  {
   "cell_type": "code",
   "execution_count": null,
   "id": "5ed3c702-a02f-442f-b894-945d661ce8db",
   "metadata": {},
   "outputs": [],
   "source": []
  }
 ],
 "metadata": {
  "kernelspec": {
   "display_name": "Python 3 (ipykernel)",
   "language": "python",
   "name": "python3"
  },
  "language_info": {
   "codemirror_mode": {
    "name": "ipython",
    "version": 3
   },
   "file_extension": ".py",
   "mimetype": "text/x-python",
   "name": "python",
   "nbconvert_exporter": "python",
   "pygments_lexer": "ipython3",
   "version": "3.8.8"
  }
 },
 "nbformat": 4,
 "nbformat_minor": 5
}
